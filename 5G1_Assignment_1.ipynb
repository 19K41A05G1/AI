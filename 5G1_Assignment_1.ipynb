{
  "nbformat": 4,
  "nbformat_minor": 0,
  "metadata": {
    "colab": {
      "name": "5G1-Assignment 1",
      "provenance": [],
      "collapsed_sections": [],
      "authorship_tag": "ABX9TyO/WAYTXSvnE+TD9Fr+f5rV",
      "include_colab_link": true
    },
    "kernelspec": {
      "name": "python3",
      "display_name": "Python 3"
    },
    "language_info": {
      "name": "python"
    }
  },
  "cells": [
    {
      "cell_type": "markdown",
      "metadata": {
        "id": "view-in-github",
        "colab_type": "text"
      },
      "source": [
        "<a href=\"https://colab.research.google.com/github/19K41A05G1/AI/blob/main/5G1_Assignment_1.ipynb\" target=\"_parent\"><img src=\"https://colab.research.google.com/assets/colab-badge.svg\" alt=\"Open In Colab\"/></a>"
      ]
    },
    {
      "cell_type": "code",
      "metadata": {
        "colab": {
          "base_uri": "https://localhost:8080/"
        },
        "id": "KPDGSgiAKFsk",
        "outputId": "c9977fef-e6e8-46e7-a2db-43e1fc313252"
      },
      "source": [
        "from scipy.optimize import linprog\n",
        "obj = [-50,-120]\n",
        "A_ieq=[[7000,2000],[10,30]]\n",
        "b_ieq=[700000,1200]\n",
        "boundary=[(0,float('inf')),(0,float('inf'))]\n",
        "opt = linprog(c=obj,A_ub=A_ieq,b_ub=b_ieq,A_eq=None,b_eq=None,bounds=boundary,method=\"simplex\")\n",
        "print('No of hectares allocated for Wheat : ', round(opt.x[0]),'\\nNo of labors required for Wheat crop : ',10*round(opt.x[0]),'\\nNo of hectares allocated for Barley : ' ,round(opt.x[1]),'\\nNo of labors required for Barley crop : ',30*round(opt.x[1]))\n",
        "print('profit : ',50*round(opt.x[0])+120*round(opt.x[1]))"
      ],
      "execution_count": 4,
      "outputs": [
        {
          "output_type": "stream",
          "text": [
            "No of hectares allocated for Wheat :  98 \n",
            "No of labors required for Wheat crop :  980 \n",
            "No of hectares allocated for Barley :  7 \n",
            "No of labors required for Barley crop :  210\n",
            "profit :  5740\n"
          ],
          "name": "stdout"
        }
      ]
    }
  ]
}